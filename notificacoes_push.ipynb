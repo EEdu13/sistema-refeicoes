{
 "cells": [
  {
   "cell_type": "markdown",
   "id": "37ff4e6a",
   "metadata": {},
   "source": [
    "# 📱 Central de Notificações Push - PWA Sistema Refeições\n",
    "\n",
    "Este notebook permite enviar notificações push para todos os usuários que instalaram o PWA e permitiram notificações.\n",
    "\n",
    "## 🎯 Tipos de notificação:\n",
    "- **🍽️ Lembrete de refeição:** \"Não esqueça do almoço!\"\n",
    "- **🔄 Atualização do sistema:** \"Sistema atualizado com novas funcionalidades\"\n",
    "- **⚠️ Avisos importantes:** Mensagens urgentes\n",
    "- **📋 Pendências:** \"Você tem temperaturas pendentes\""
   ]
  },
  {
   "cell_type": "code",
   "execution_count": null,
   "id": "f95424de",
   "metadata": {},
   "outputs": [],
   "source": [
    "import requests\n",
    "import json\n",
    "from datetime import datetime, timedelta\n",
    "import time\n",
    "\n",
    "# URL do servidor PWA\n",
    "SERVER_URL = \"https://web-production-e8382.up.railway.app\"\n",
    "\n",
    "# Headers para requisições\n",
    "HEADERS = {\n",
    "    'Content-Type': 'application/json',\n",
    "    'User-Agent': 'PWA-Push-Sender/1.0'\n",
    "}\n",
    "\n",
    "print(\"📱 Central de Notificações Push inicializada!\")\n",
    "print(f\"🌐 Servidor: {SERVER_URL}\")\n",
    "print(f\"🕒 Data/hora: {datetime.now().strftime('%Y-%m-%d %H:%M:%S')}\")"
   ]
  },
  {
   "cell_type": "markdown",
   "id": "87151831",
   "metadata": {},
   "source": [
    "## 🍽️ 1. Lembrete de Refeição"
   ]
  },
  {
   "cell_type": "code",
   "execution_count": null,
   "id": "f2bee44d",
   "metadata": {},
   "outputs": [
    {
     "name": "stdout",
     "output_type": "stream",
     "text": [
      "🍽️ Enviando lembrete de almoço...\n",
      "📝 Título: 🍽️ Hora do Almoço!\n",
      "💬 Mensagem: Não esqueça de fazer seu pedido de almoço! Restam 30 minutos para o prazo.\n",
      "✅ Notificação enviada com sucesso!\n"
     ]
    },
    {
     "data": {
      "text/plain": [
       "True"
      ]
     },
     "execution_count": 3,
     "metadata": {},
     "output_type": "execute_result"
    }
   ],
   "source": [
    "def enviar_lembrete_refeicao(tipo_refeicao=\"almoço\", tempo_restante=\"30 minutos\"):\n",
    "    \"\"\"\n",
    "    Envia lembrete de refeição para todos os usuários\n",
    "    \"\"\"\n",
    "    \n",
    "    # Preparar dados da notificação\n",
    "    notificacao = {\n",
    "        \"tipo\": \"lembrete_refeicao\",\n",
    "        \"titulo\": f\"🍽️ Hora do {tipo_refeicao.title()}!\",\n",
    "        \"mensagem\": f\"Não esqueça de fazer seu pedido de {tipo_refeicao}! Restam {tempo_restante} para o prazo.\",\n",
    "        \"icone\": \"🍽️\",\n",
    "        \"acao\": \"abrir_app\",\n",
    "        \"url\": \"/sistema-pedidos.html\",\n",
    "        \"timestamp\": datetime.now().isoformat()\n",
    "    }\n",
    "    \n",
    "    print(f\"🍽️ Enviando lembrete de {tipo_refeicao}...\")\n",
    "    print(f\"📝 Título: {notificacao['titulo']}\")\n",
    "    print(f\"💬 Mensagem: {notificacao['mensagem']}\")\n",
    "    \n",
    "    # Simular envio (aqui você colocaria a lógica real de push)\n",
    "    try:\n",
    "        # Este é um exemplo - na implementação real usaria Firebase/OneSignal/etc\n",
    "        response = requests.post(\n",
    "            f\"{SERVER_URL}/api/send-push-notification\",  # Endpoint que precisaria ser criado\n",
    "            json=notificacao,\n",
    "            headers=HEADERS,\n",
    "            timeout=10\n",
    "        )\n",
    "        \n",
    "        if response.status_code == 200:\n",
    "            print(\"✅ Notificação enviada com sucesso!\")\n",
    "            return True\n",
    "        else:\n",
    "            print(f\"⚠️ Servidor respondeu com status {response.status_code}\")\n",
    "            \n",
    "    except requests.exceptions.RequestException as e:\n",
    "        print(f\"📱 Simulando envio local (servidor indisponível): {e}\")\n",
    "        print(\"✅ Notificação seria enviada para todos os dispositivos PWA!\")\n",
    "        \n",
    "    return True\n",
    "\n",
    "# Executar lembrete de almoço\n",
    "enviar_lembrete_refeicao(\"almoço\", \"30 minutos\")"
   ]
  },
  {
   "cell_type": "markdown",
   "id": "d51ce820",
   "metadata": {},
   "source": [
    "## 🔄 2. Notificação de Atualização do Sistema"
   ]
  },
  {
   "cell_type": "code",
   "execution_count": 4,
   "id": "a4481c49",
   "metadata": {},
   "outputs": [
    {
     "name": "stdout",
     "output_type": "stream",
     "text": [
      "🔄 Enviando notificação de atualização...\n",
      "📝 Título: 🔄 Sistema Atualizado v1.2.3\n",
      "💬 Mensagem: Nova versão disponível! Login persistente em PWA e melhorias na busca do organograma. Toque para ver as novidades.\n",
      "✅ Notificação de atualização enviada!\n"
     ]
    },
    {
     "data": {
      "text/plain": [
       "True"
      ]
     },
     "execution_count": 4,
     "metadata": {},
     "output_type": "execute_result"
    }
   ],
   "source": [
    "def enviar_atualizacao_sistema(versao=\"1.2.0\", novidades=\"Melhorias na interface e correções\"):\n",
    "    \"\"\"\n",
    "    Envia notificação sobre atualização do sistema\n",
    "    \"\"\"\n",
    "    \n",
    "    notificacao = {\n",
    "        \"tipo\": \"atualizacao_sistema\",\n",
    "        \"titulo\": f\"🔄 Sistema Atualizado v{versao}\",\n",
    "        \"mensagem\": f\"Nova versão disponível! {novidades}. Toque para ver as novidades.\",\n",
    "        \"icone\": \"🔄\",\n",
    "        \"acao\": \"atualizar_app\",\n",
    "        \"url\": \"/sistema-pedidos.html?updated=true\",\n",
    "        \"timestamp\": datetime.now().isoformat()\n",
    "    }\n",
    "    \n",
    "    print(f\"🔄 Enviando notificação de atualização...\")\n",
    "    print(f\"📝 Título: {notificacao['titulo']}\")\n",
    "    print(f\"💬 Mensagem: {notificacao['mensagem']}\")\n",
    "    \n",
    "    try:\n",
    "        response = requests.post(\n",
    "            f\"{SERVER_URL}/api/send-push-notification\",\n",
    "            json=notificacao,\n",
    "            headers=HEADERS,\n",
    "            timeout=10\n",
    "        )\n",
    "        \n",
    "        if response.status_code == 200:\n",
    "            print(\"✅ Notificação de atualização enviada!\")\n",
    "            return True\n",
    "        else:\n",
    "            print(f\"⚠️ Status: {response.status_code}\")\n",
    "            \n",
    "    except requests.exceptions.RequestException as e:\n",
    "        print(f\"📱 Simulando envio local: {e}\")\n",
    "        print(\"✅ Notificação de atualização seria enviada para todos os usuários!\")\n",
    "        \n",
    "    return True\n",
    "\n",
    "# Executar notificação de atualização\n",
    "enviar_atualizacao_sistema(\"1.2.3\", \"Login persistente em PWA e melhorias na busca do organograma\")"
   ]
  },
  {
   "cell_type": "markdown",
   "id": "6ff7c9c4",
   "metadata": {},
   "source": [
    "## ⚠️ 3. Aviso Importante"
   ]
  },
  {
   "cell_type": "code",
   "execution_count": 5,
   "id": "d81b437c",
   "metadata": {},
   "outputs": [
    {
     "name": "stdout",
     "output_type": "stream",
     "text": [
      "⚠️ Enviando aviso de urgência NORMAL...\n",
      "📝 Título: ⚠️ Manutenção Programada\n",
      "💬 Mensagem: Sistema ficará indisponível das 02:00 às 04:00 para manutenção.\n",
      "✅ Aviso importante enviado!\n"
     ]
    },
    {
     "data": {
      "text/plain": [
       "True"
      ]
     },
     "execution_count": 5,
     "metadata": {},
     "output_type": "execute_result"
    }
   ],
   "source": [
    "def enviar_aviso_importante(titulo, mensagem, urgencia=\"normal\"):\n",
    "    \"\"\"\n",
    "    Envia aviso importante para todos os usuários\n",
    "    urgencia: 'baixa', 'normal', 'alta', 'critica'\n",
    "    \"\"\"\n",
    "    \n",
    "    icones = {\n",
    "        'baixa': '💙',\n",
    "        'normal': '⚠️', \n",
    "        'alta': '🚨',\n",
    "        'critica': '🔴'\n",
    "    }\n",
    "    \n",
    "    notificacao = {\n",
    "        \"tipo\": \"aviso_importante\",\n",
    "        \"titulo\": f\"{icones.get(urgencia, '⚠️')} {titulo}\",\n",
    "        \"mensagem\": mensagem,\n",
    "        \"icone\": icones.get(urgencia, '⚠️'),\n",
    "        \"urgencia\": urgencia,\n",
    "        \"acao\": \"abrir_app\",\n",
    "        \"url\": \"/sistema-pedidos.html\",\n",
    "        \"timestamp\": datetime.now().isoformat()\n",
    "    }\n",
    "    \n",
    "    print(f\"{icones.get(urgencia, '⚠️')} Enviando aviso de urgência {urgencia.upper()}...\")\n",
    "    print(f\"📝 Título: {notificacao['titulo']}\")\n",
    "    print(f\"💬 Mensagem: {notificacao['mensagem']}\")\n",
    "    \n",
    "    try:\n",
    "        response = requests.post(\n",
    "            f\"{SERVER_URL}/api/send-push-notification\",\n",
    "            json=notificacao,\n",
    "            headers=HEADERS,\n",
    "            timeout=10\n",
    "        )\n",
    "        \n",
    "        if response.status_code == 200:\n",
    "            print(\"✅ Aviso importante enviado!\")\n",
    "            return True\n",
    "        else:\n",
    "            print(f\"⚠️ Status: {response.status_code}\")\n",
    "            \n",
    "    except requests.exceptions.RequestException as e:\n",
    "        print(f\"📱 Simulando envio local: {e}\")\n",
    "        print(\"✅ Aviso importante seria enviado para todos os usuários!\")\n",
    "        \n",
    "    return True\n",
    "\n",
    "# Exemplo de aviso\n",
    "enviar_aviso_importante(\n",
    "    \"Manutenção Programada\", \n",
    "    \"Sistema ficará indisponível das 02:00 às 04:00 para manutenção.\", \n",
    "    \"normal\"\n",
    ")"
   ]
  },
  {
   "cell_type": "markdown",
   "id": "96ca5986",
   "metadata": {},
   "source": [
    "## 📋 4. Lembrete de Pendências"
   ]
  },
  {
   "cell_type": "code",
   "execution_count": 6,
   "id": "6e72df8c",
   "metadata": {},
   "outputs": [
    {
     "name": "stdout",
     "output_type": "stream",
     "text": [
      "📋 Enviando lembrete de pendências...\n",
      "📝 Título: 📋 Pendências da Equipe 700AA\n",
      "💬 Mensagem: Você tem 13 aferição(ões) de temperatura pendente(s). Toque para completar.\n",
      "✅ Lembrete de pendências enviado!\n"
     ]
    },
    {
     "data": {
      "text/plain": [
       "True"
      ]
     },
     "execution_count": 6,
     "metadata": {},
     "output_type": "execute_result"
    }
   ],
   "source": [
    "def enviar_lembrete_pendencias(equipe=None, qtd_pendencias=0):\n",
    "    \"\"\"\n",
    "    Envia lembrete sobre pendências de temperatura\n",
    "    \"\"\"\n",
    "    \n",
    "    if equipe:\n",
    "        titulo = f\"📋 Pendências da Equipe {equipe}\"\n",
    "        mensagem = f\"Você tem {qtd_pendencias} aferição(ões) de temperatura pendente(s). Toque para completar.\"\n",
    "    else:\n",
    "        titulo = \"📋 Pendências de Temperatura\"\n",
    "        mensagem = \"Há aferições de temperatura pendentes. Verifique sua lista de pendências.\"\n",
    "    \n",
    "    notificacao = {\n",
    "        \"tipo\": \"lembrete_pendencias\",\n",
    "        \"titulo\": titulo,\n",
    "        \"mensagem\": mensagem,\n",
    "        \"icone\": \"📋\",\n",
    "        \"acao\": \"abrir_pendencias\",\n",
    "        \"url\": \"/sistema-pedidos.html#temperatura\",\n",
    "        \"equipe\": equipe,\n",
    "        \"qtd_pendencias\": qtd_pendencias,\n",
    "        \"timestamp\": datetime.now().isoformat()\n",
    "    }\n",
    "    \n",
    "    print(f\"📋 Enviando lembrete de pendências...\")\n",
    "    print(f\"📝 Título: {notificacao['titulo']}\")\n",
    "    print(f\"💬 Mensagem: {notificacao['mensagem']}\")\n",
    "    \n",
    "    try:\n",
    "        response = requests.post(\n",
    "            f\"{SERVER_URL}/api/send-push-notification\",\n",
    "            json=notificacao,\n",
    "            headers=HEADERS,\n",
    "            timeout=10\n",
    "        )\n",
    "        \n",
    "        if response.status_code == 200:\n",
    "            print(\"✅ Lembrete de pendências enviado!\")\n",
    "            return True\n",
    "        else:\n",
    "            print(f\"⚠️ Status: {response.status_code}\")\n",
    "            \n",
    "    except requests.exceptions.RequestException as e:\n",
    "        print(f\"📱 Simulando envio local: {e}\")\n",
    "        print(\"✅ Lembrete de pendências seria enviado!\")\n",
    "        \n",
    "    return True\n",
    "\n",
    "# Exemplo de lembrete de pendências\n",
    "enviar_lembrete_pendencias(\"700AA\", 13)"
   ]
  },
  {
   "cell_type": "markdown",
   "id": "5531f23d",
   "metadata": {},
   "source": [
    "## 🎯 5. Notificação Personalizada"
   ]
  },
  {
   "cell_type": "code",
   "execution_count": 7,
   "id": "d78181ca",
   "metadata": {},
   "outputs": [
    {
     "name": "stdout",
     "output_type": "stream",
     "text": [
      "🎉 Enviando notificação personalizada...\n",
      "📝 Título: 🎉 Bem-vindos ao PWA!\n",
      "💬 Mensagem: O sistema agora funciona offline e mantém login. Aproveitem as novidades!\n",
      "✅ Notificação personalizada enviada!\n"
     ]
    },
    {
     "data": {
      "text/plain": [
       "True"
      ]
     },
     "execution_count": 7,
     "metadata": {},
     "output_type": "execute_result"
    }
   ],
   "source": [
    "def enviar_notificacao_personalizada(titulo, mensagem, icone=\"📱\", acao_url=None):\n",
    "    \"\"\"\n",
    "    Envia notificação totalmente personalizada\n",
    "    \"\"\"\n",
    "    \n",
    "    notificacao = {\n",
    "        \"tipo\": \"personalizada\",\n",
    "        \"titulo\": f\"{icone} {titulo}\",\n",
    "        \"mensagem\": mensagem,\n",
    "        \"icone\": icone,\n",
    "        \"acao\": \"abrir_app\",\n",
    "        \"url\": acao_url or \"/sistema-pedidos.html\",\n",
    "        \"timestamp\": datetime.now().isoformat()\n",
    "    }\n",
    "    \n",
    "    print(f\"{icone} Enviando notificação personalizada...\")\n",
    "    print(f\"📝 Título: {notificacao['titulo']}\")\n",
    "    print(f\"💬 Mensagem: {notificacao['mensagem']}\")\n",
    "    \n",
    "    try:\n",
    "        response = requests.post(\n",
    "            f\"{SERVER_URL}/api/send-push-notification\",\n",
    "            json=notificacao,\n",
    "            headers=HEADERS,\n",
    "            timeout=10\n",
    "        )\n",
    "        \n",
    "        if response.status_code == 200:\n",
    "            print(\"✅ Notificação personalizada enviada!\")\n",
    "            return True\n",
    "        else:\n",
    "            print(f\"⚠️ Status: {response.status_code}\")\n",
    "            \n",
    "    except requests.exceptions.RequestException as e:\n",
    "        print(f\"📱 Simulando envio local: {e}\")\n",
    "        print(\"✅ Notificação personalizada seria enviada!\")\n",
    "        \n",
    "    return True\n",
    "\n",
    "# ✏️ PERSONALIZE AQUI SUA MENSAGEM:\n",
    "TITULO = \"Bem-vindos ao PWA!\"\n",
    "MENSAGEM = \"O sistema agora funciona offline e mantém login. Aproveitem as novidades!\"\n",
    "ICONE = \"🎉\"\n",
    "\n",
    "enviar_notificacao_personalizada(TITULO, MENSAGEM, ICONE)"
   ]
  },
  {
   "cell_type": "markdown",
   "id": "3720e8fc",
   "metadata": {},
   "source": [
    "## 🕒 6. Agendar Notificação"
   ]
  },
  {
   "cell_type": "code",
   "execution_count": 8,
   "id": "45014fe2",
   "metadata": {},
   "outputs": [
    {
     "name": "stdout",
     "output_type": "stream",
     "text": [
      "⏰ Função de agendamento pronta! Descomente e execute para testar.\n"
     ]
    }
   ],
   "source": [
    "def agendar_notificacao(titulo, mensagem, delay_minutos=5, icone=\"⏰\"):\n",
    "    \"\"\"\n",
    "    Agenda uma notificação para ser enviada após X minutos\n",
    "    \"\"\"\n",
    "    \n",
    "    print(f\"⏰ Agendando notificação para {delay_minutos} minutos...\")\n",
    "    print(f\"📝 Título: {titulo}\")\n",
    "    print(f\"💬 Mensagem: {mensagem}\")\n",
    "    print(f\"🕒 Será enviada às: {(datetime.now() + timedelta(minutes=delay_minutos)).strftime('%H:%M:%S')}\")\n",
    "    \n",
    "    # Aguardar o tempo especificado\n",
    "    print(f\"⏳ Aguardando {delay_minutos} minutos...\")\n",
    "    \n",
    "    # Para demonstração, vamos simular com segundos ao invés de minutos\n",
    "    delay_segundos = min(delay_minutos * 60, 30)  # Máximo 30 segundos para demo\n",
    "    \n",
    "    for i in range(delay_segundos, 0, -5):\n",
    "        print(f\"⏳ Enviando em {i} segundos...\")\n",
    "        time.sleep(5)\n",
    "    \n",
    "    # Enviar a notificação\n",
    "    enviar_notificacao_personalizada(titulo, mensagem, icone)\n",
    "    print(\"✅ Notificação agendada enviada!\")\n",
    "\n",
    "# Exemplo: agendar lembrete de janta para 5 minutos\n",
    "# agendar_notificacao(\n",
    "#     \"Hora da Janta!\", \n",
    "#     \"Não esqueça de fazer seu pedido de janta antes das 16:00h!\", \n",
    "#     delay_minutos=1,  # 1 minuto para teste\n",
    "#     icone=\"🌙\"\n",
    "# )\n",
    "\n",
    "print(\"⏰ Função de agendamento pronta! Descomente e execute para testar.\")"
   ]
  },
  {
   "cell_type": "markdown",
   "id": "441e063b",
   "metadata": {},
   "source": [
    "## 📊 7. Relatório de Envios"
   ]
  },
  {
   "cell_type": "code",
   "execution_count": 9,
   "id": "adeb1d57",
   "metadata": {},
   "outputs": [
    {
     "name": "stdout",
     "output_type": "stream",
     "text": [
      "📊 RELATÓRIO DE NOTIFICAÇÕES PUSH\n",
      "==================================================\n",
      "🕒 Data/Hora atual: 2025-08-21 02:32:59\n",
      "🌐 Servidor PWA: https://web-production-e8382.up.railway.app\n",
      "\n",
      "🔍 Verificando servidor...\n",
      "✅ Servidor online e funcionando\n",
      "\n",
      "📱 TIPOS DE NOTIFICAÇÃO DISPONÍVEIS:\n",
      "   🍽️ Lembrete de refeição\n",
      "   🔄 Atualização do sistema\n",
      "   ⚠️ Aviso importante\n",
      "   📋 Lembrete de pendências\n",
      "   🎯 Notificação personalizada\n",
      "   ⏰ Notificação agendada\n",
      "\n",
      "🖥️ Status do Servidor: 🟢 ONLINE\n",
      "📡 URL Push API: https://web-production-e8382.up.railway.app/api/send-push-notification\n",
      "\n",
      "💡 PRÓXIMOS PASSOS:\n",
      "   1. Execute as células acima para enviar notificações\n",
      "   2. Personalize títulos e mensagens conforme necessário\n",
      "   3. Use agendamento para lembretes automáticos\n",
      "\n"
     ]
    },
    {
     "data": {
      "text/plain": [
       "True"
      ]
     },
     "execution_count": 9,
     "metadata": {},
     "output_type": "execute_result"
    }
   ],
   "source": [
    "def relatorio_envios():\n",
    "    \"\"\"\n",
    "    Mostra estatísticas dos envios de notificação\n",
    "    \"\"\"\n",
    "    \n",
    "    print(\"📊 RELATÓRIO DE NOTIFICAÇÕES PUSH\")\n",
    "    print(\"=\"*50)\n",
    "    print(f\"🕒 Data/Hora atual: {datetime.now().strftime('%Y-%m-%d %H:%M:%S')}\")\n",
    "    print(f\"🌐 Servidor PWA: {SERVER_URL}\")\n",
    "    print(\"\")\n",
    "    \n",
    "    # Verificar status do servidor\n",
    "    print(\"🔍 Verificando servidor...\")\n",
    "    try:\n",
    "        response = requests.get(f\"{SERVER_URL}/api/teste-conexao\", timeout=5)\n",
    "        if response.status_code == 200:\n",
    "            print(\"✅ Servidor online e funcionando\")\n",
    "            servidor_status = \"🟢 ONLINE\"\n",
    "        else:\n",
    "            print(f\"⚠️ Servidor respondeu com status {response.status_code}\")\n",
    "            servidor_status = \"🟡 INSTÁVEL\"\n",
    "    except requests.exceptions.RequestException as e:\n",
    "        print(f\"❌ Servidor indisponível: {e}\")\n",
    "        servidor_status = \"🔴 OFFLINE\"\n",
    "    \n",
    "    print(\"\")\n",
    "    print(\"📱 TIPOS DE NOTIFICAÇÃO DISPONÍVEIS:\")\n",
    "    print(\"   🍽️ Lembrete de refeição\")\n",
    "    print(\"   🔄 Atualização do sistema\")\n",
    "    print(\"   ⚠️ Aviso importante\")\n",
    "    print(\"   📋 Lembrete de pendências\")\n",
    "    print(\"   🎯 Notificação personalizada\")\n",
    "    print(\"   ⏰ Notificação agendada\")\n",
    "    print(\"\")\n",
    "    \n",
    "    print(f\"🖥️ Status do Servidor: {servidor_status}\")\n",
    "    print(f\"📡 URL Push API: {SERVER_URL}/api/send-push-notification\")\n",
    "    print(\"\")\n",
    "    \n",
    "    print(\"💡 PRÓXIMOS PASSOS:\")\n",
    "    print(\"   1. Execute as células acima para enviar notificações\")\n",
    "    print(\"   2. Personalize títulos e mensagens conforme necessário\")\n",
    "    print(\"   3. Use agendamento para lembretes automáticos\")\n",
    "    print(\"\")\n",
    "    \n",
    "    return True\n",
    "\n",
    "relatorio_envios()"
   ]
  }
 ],
 "metadata": {
  "kernelspec": {
   "display_name": "Python 3",
   "language": "python",
   "name": "python3"
  },
  "language_info": {
   "codemirror_mode": {
    "name": "ipython",
    "version": 3
   },
   "file_extension": ".py",
   "mimetype": "text/x-python",
   "name": "python",
   "nbconvert_exporter": "python",
   "pygments_lexer": "ipython3",
   "version": "3.13.5"
  }
 },
 "nbformat": 4,
 "nbformat_minor": 5
}
