{
 "cells": [
  {
   "cell_type": "markdown",
   "id": "a1862c09",
   "metadata": {},
   "source": [
    "# 🚀 Git Push Automation - Sistema Refeições\n",
    "\n",
    "Este notebook permite fazer commits e pushes do projeto diretamente do Jupyter.\n",
    "\n",
    "## 📋 Comandos disponíveis:\n",
    "- **Status:** Ver arquivos modificados\n",
    "- **Add:** Adicionar arquivos ao staging\n",
    "- **Commit:** Fazer commit com mensagem\n",
    "- **Push:** Enviar para o repositório remoto\n",
    "- **Log:** Ver histórico de commits"
   ]
  },
  {
   "cell_type": "code",
   "execution_count": null,
   "id": "291cbf63",
   "metadata": {},
   "outputs": [],
   "source": [
    "import os\n",
    "import subprocess\n",
    "from datetime import datetime\n",
    "\n",
    "# Configurar diretório do projeto\n",
    "PROJECT_DIR = r\"c:\\Users\\ferre\\OneDrive\\Ambiente de Trabalho\\PROJETO - REFEICOES\"\n",
    "os.chdir(PROJECT_DIR)\n",
    "\n",
    "print(f\"📁 Diretório atual: {os.getcwd()}\")\n",
    "print(f\"🕒 Data/hora: {datetime.now().strftime('%Y-%m-%d %H:%M:%S')}\")"
   ]
  },
  {
   "cell_type": "markdown",
   "id": "de1a41d0",
   "metadata": {},
   "source": [
    "## 🔍 1. Ver Status do Git"
   ]
  },
  {
   "cell_type": "code",
   "execution_count": null,
   "id": "68909ef8",
   "metadata": {},
   "outputs": [],
   "source": [
    "# Ver status dos arquivos\n",
    "result = subprocess.run(['git', 'status', '--porcelain'], capture_output=True, text=True)\n",
    "\n",
    "if result.returncode == 0:\n",
    "    if result.stdout.strip():\n",
    "        print(\"📝 Arquivos modificados:\")\n",
    "        for line in result.stdout.strip().split('\\n'):\n",
    "            status = line[:2]\n",
    "            filename = line[3:]\n",
    "            if status == '??':\n",
    "                print(f\"   🆕 {filename} (novo arquivo)\")\n",
    "            elif status == ' M':\n",
    "                print(f\"   ✏️  {filename} (modificado)\")\n",
    "            elif status == 'M ':\n",
    "                print(f\"   ✅ {filename} (staged)\")\n",
    "            else:\n",
    "                print(f\"   📄 {filename} ({status})\")\n",
    "    else:\n",
    "        print(\"✅ Nenhuma alteração pendente\")\n",
    "else:\n",
    "    print(f\"❌ Erro: {result.stderr}\")"
   ]
  },
  {
   "cell_type": "markdown",
   "id": "5700858b",
   "metadata": {},
   "source": [
    "## ➕ 2. Adicionar Arquivos (git add)"
   ]
  },
  {
   "cell_type": "code",
   "execution_count": null,
   "id": "822a986e",
   "metadata": {},
   "outputs": [],
   "source": [
    "# Adicionar todos os arquivos\n",
    "result = subprocess.run(['git', 'add', '-A'], capture_output=True, text=True)\n",
    "\n",
    "if result.returncode == 0:\n",
    "    print(\"✅ Todos os arquivos adicionados ao staging\")\n",
    "    \n",
    "    # Mostrar o que foi adicionado\n",
    "    status_result = subprocess.run(['git', 'status', '--porcelain'], capture_output=True, text=True)\n",
    "    if status_result.stdout.strip():\n",
    "        print(\"\\n📦 Arquivos no staging:\")\n",
    "        for line in status_result.stdout.strip().split('\\n'):\n",
    "            if line.startswith('A ') or line.startswith('M '):\n",
    "                filename = line[3:]\n",
    "                print(f\"   ✅ {filename}\")\n",
    "else:\n",
    "    print(f\"❌ Erro ao adicionar arquivos: {result.stderr}\")"
   ]
  },
  {
   "cell_type": "markdown",
   "id": "2f263a36",
   "metadata": {},
   "source": [
    "## 💬 3. Fazer Commit"
   ]
  },
  {
   "cell_type": "code",
   "execution_count": null,
   "id": "73f863a4",
   "metadata": {},
   "outputs": [],
   "source": [
    "# Definir mensagem do commit\n",
    "COMMIT_MESSAGE = \"🔧 Atualização via Jupyter Notebook\"\n",
    "\n",
    "# Você pode alterar a mensagem aqui:\n",
    "# COMMIT_MESSAGE = \"✨ Sua mensagem personalizada aqui\"\n",
    "\n",
    "print(f\"💬 Mensagem do commit: {COMMIT_MESSAGE}\")\n",
    "\n",
    "# Fazer commit\n",
    "result = subprocess.run(['git', 'commit', '-m', COMMIT_MESSAGE], capture_output=True, text=True)\n",
    "\n",
    "if result.returncode == 0:\n",
    "    print(\"✅ Commit realizado com sucesso!\")\n",
    "    print(f\"📝 Output: {result.stdout.strip()}\")\n",
    "else:\n",
    "    if \"nothing to commit\" in result.stdout:\n",
    "        print(\"ℹ️ Nada para fazer commit (nenhuma alteração)\")\n",
    "    else:\n",
    "        print(f\"❌ Erro no commit: {result.stderr}\")\n",
    "        print(f\"📝 Output: {result.stdout}\")"
   ]
  },
  {
   "cell_type": "markdown",
   "id": "e7a33d81",
   "metadata": {},
   "source": [
    "## 🚀 4. Fazer Push"
   ]
  },
  {
   "cell_type": "code",
   "execution_count": null,
   "id": "ecdc7b3e",
   "metadata": {},
   "outputs": [],
   "source": [
    "# Fazer push para o repositório remoto\n",
    "print(\"🚀 Enviando para o repositório...\")\n",
    "\n",
    "result = subprocess.run(['git', 'push'], capture_output=True, text=True)\n",
    "\n",
    "if result.returncode == 0:\n",
    "    print(\"✅ Push realizado com sucesso!\")\n",
    "    print(\"🎉 Alterações enviadas para o GitHub!\")\n",
    "    if result.stderr:\n",
    "        print(f\"📝 Info: {result.stderr}\")\n",
    "else:\n",
    "    print(f\"❌ Erro no push: {result.stderr}\")\n",
    "    if result.stdout:\n",
    "        print(f\"📝 Output: {result.stdout}\")"
   ]
  },
  {
   "cell_type": "markdown",
   "id": "c98bb558",
   "metadata": {},
   "source": [
    "## 📊 5. Ver Últimos Commits"
   ]
  },
  {
   "cell_type": "code",
   "execution_count": null,
   "id": "06b51960",
   "metadata": {},
   "outputs": [],
   "source": [
    "# Ver últimos 5 commits\n",
    "result = subprocess.run(['git', 'log', '--oneline', '-5'], capture_output=True, text=True)\n",
    "\n",
    "if result.returncode == 0:\n",
    "    print(\"📜 Últimos 5 commits:\")\n",
    "    for line in result.stdout.strip().split('\\n'):\n",
    "        if line.strip():\n",
    "            hash_msg = line.split(' ', 1)\n",
    "            commit_hash = hash_msg[0][:7]\n",
    "            commit_msg = hash_msg[1] if len(hash_msg) > 1 else ''\n",
    "            print(f\"   🔸 {commit_hash} - {commit_msg}\")\n",
    "else:\n",
    "    print(f\"❌ Erro ao buscar commits: {result.stderr}\")"
   ]
  },
  {
   "cell_type": "markdown",
   "id": "5626667e",
   "metadata": {},
   "source": [
    "## 🔄 6. Comando Completo (Add + Commit + Push)"
   ]
  },
  {
   "cell_type": "code",
   "execution_count": null,
   "id": "c6308de2",
   "metadata": {},
   "outputs": [],
   "source": [
    "# Função para fazer tudo de uma vez\n",
    "def git_push_completo(mensagem_commit):\n",
    "    print(\"🚀 Executando git completo...\\n\")\n",
    "    \n",
    "    # 1. Add\n",
    "    print(\"1️⃣ Adicionando arquivos...\")\n",
    "    add_result = subprocess.run(['git', 'add', '-A'], capture_output=True, text=True)\n",
    "    if add_result.returncode == 0:\n",
    "        print(\"   ✅ Arquivos adicionados\")\n",
    "    else:\n",
    "        print(f\"   ❌ Erro no add: {add_result.stderr}\")\n",
    "        return\n",
    "    \n",
    "    # 2. Commit\n",
    "    print(\"2️⃣ Fazendo commit...\")\n",
    "    commit_result = subprocess.run(['git', 'commit', '-m', mensagem_commit], capture_output=True, text=True)\n",
    "    if commit_result.returncode == 0:\n",
    "        print(f\"   ✅ Commit realizado: {mensagem_commit}\")\n",
    "    elif \"nothing to commit\" in commit_result.stdout:\n",
    "        print(\"   ℹ️ Nada para fazer commit\")\n",
    "        return\n",
    "    else:\n",
    "        print(f\"   ❌ Erro no commit: {commit_result.stderr}\")\n",
    "        return\n",
    "    \n",
    "    # 3. Push\n",
    "    print(\"3️⃣ Fazendo push...\")\n",
    "    push_result = subprocess.run(['git', 'push'], capture_output=True, text=True)\n",
    "    if push_result.returncode == 0:\n",
    "        print(\"   🎉 Push realizado com sucesso!\")\n",
    "        print(\"\\n✅ TUDO CONCLUÍDO! Alterações enviadas para o GitHub.\")\n",
    "    else:\n",
    "        print(f\"   ❌ Erro no push: {push_result.stderr}\")\n",
    "\n",
    "# Executar com mensagem personalizada\n",
    "MENSAGEM = f\"📝 Update via notebook - {datetime.now().strftime('%H:%M:%S')}\"\n",
    "\n",
    "# Altere a mensagem aqui se quiser:\n",
    "# MENSAGEM = \"🎯 Sua mensagem personalizada\"\n",
    "\n",
    "git_push_completo(MENSAGEM)"
   ]
  },
  {
   "cell_type": "markdown",
   "id": "f48da81e",
   "metadata": {},
   "source": [
    "## 📱 7. Status do Deploy Railway"
   ]
  },
  {
   "cell_type": "code",
   "execution_count": null,
   "id": "18a882df",
   "metadata": {},
   "outputs": [],
   "source": [
    "import requests\n",
    "import time\n",
    "\n",
    "# URL da aplicação Railway\n",
    "APP_URL = \"https://web-production-e8382.up.railway.app/api/teste-conexao\"\n",
    "\n",
    "print(\"🚂 Verificando status do Railway...\")\n",
    "\n",
    "try:\n",
    "    response = requests.get(APP_URL, timeout=10)\n",
    "    if response.status_code == 200:\n",
    "        print(\"✅ Railway está online!\")\n",
    "        print(f\"📡 Status: {response.status_code}\")\n",
    "        print(f\"⏱️ Tempo de resposta: {response.elapsed.total_seconds():.2f}s\")\n",
    "    else:\n",
    "        print(f\"⚠️ Railway respondeu com status: {response.status_code}\")\n",
    "except requests.exceptions.RequestException as e:\n",
    "    print(f\"❌ Erro ao conectar com Railway: {e}\")\n",
    "    print(\"🔄 Aguarde alguns minutos para o deploy completar...\")\n",
    "\n",
    "print(f\"\\n🌐 URL da aplicação: https://web-production-e8382.up.railway.app/\")"
   ]
  }
 ],
 "metadata": {
  "language_info": {
   "name": "python"
  }
 },
 "nbformat": 4,
 "nbformat_minor": 5
}
